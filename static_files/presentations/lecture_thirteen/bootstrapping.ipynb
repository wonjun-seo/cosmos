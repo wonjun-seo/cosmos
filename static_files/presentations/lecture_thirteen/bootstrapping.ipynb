{
 "cells": [
  {
   "cell_type": "markdown",
   "id": "14f90c03",
   "metadata": {},
   "source": [
    "# Introduction to Bootstrapping - Simulation Methods"
   ]
  },
  {
   "cell_type": "markdown",
   "id": "18c9b0ac",
   "metadata": {},
   "source": [
    "Bootstrapping "
   ]
  },
  {
   "cell_type": "code",
   "execution_count": 20,
   "id": "b452e93f",
   "metadata": {},
   "outputs": [],
   "source": [
    "import numpy as np\n",
    "import matplotlib.pyplot as plt\n",
    "import seaborn as sns\n",
    "from matplotlib.animation import FuncAnimation\n",
    "from sklearn.tree import DecisionTreeClassifier\n",
    "from math import floor"
   ]
  },
  {
   "cell_type": "markdown",
   "id": "b7eb9dab",
   "metadata": {},
   "source": [
    "Install required dependencies"
   ]
  },
  {
   "cell_type": "code",
   "execution_count": 2,
   "id": "e55f5340",
   "metadata": {},
   "outputs": [
    {
     "data": {
      "text/html": [
       "<div>\n",
       "<style scoped>\n",
       "    .dataframe tbody tr th:only-of-type {\n",
       "        vertical-align: middle;\n",
       "    }\n",
       "\n",
       "    .dataframe tbody tr th {\n",
       "        vertical-align: top;\n",
       "    }\n",
       "\n",
       "    .dataframe thead th {\n",
       "        text-align: right;\n",
       "    }\n",
       "</style>\n",
       "<table border=\"1\" class=\"dataframe\">\n",
       "  <thead>\n",
       "    <tr style=\"text-align: right;\">\n",
       "      <th></th>\n",
       "      <th>id</th>\n",
       "      <th>gender</th>\n",
       "      <th>age</th>\n",
       "      <th>hypertension</th>\n",
       "      <th>heart_disease</th>\n",
       "      <th>ever_married</th>\n",
       "      <th>work_type</th>\n",
       "      <th>Residence_type</th>\n",
       "      <th>avg_glucose_level</th>\n",
       "      <th>bmi</th>\n",
       "      <th>smoking_status</th>\n",
       "      <th>stroke</th>\n",
       "    </tr>\n",
       "  </thead>\n",
       "  <tbody>\n",
       "    <tr>\n",
       "      <th>0</th>\n",
       "      <td>9046</td>\n",
       "      <td>Male</td>\n",
       "      <td>67.0</td>\n",
       "      <td>0</td>\n",
       "      <td>1</td>\n",
       "      <td>Yes</td>\n",
       "      <td>Private</td>\n",
       "      <td>Urban</td>\n",
       "      <td>228.69</td>\n",
       "      <td>36.6</td>\n",
       "      <td>formerly smoked</td>\n",
       "      <td>1</td>\n",
       "    </tr>\n",
       "    <tr>\n",
       "      <th>1</th>\n",
       "      <td>51676</td>\n",
       "      <td>Female</td>\n",
       "      <td>61.0</td>\n",
       "      <td>0</td>\n",
       "      <td>0</td>\n",
       "      <td>Yes</td>\n",
       "      <td>Self-employed</td>\n",
       "      <td>Rural</td>\n",
       "      <td>202.21</td>\n",
       "      <td>NaN</td>\n",
       "      <td>never smoked</td>\n",
       "      <td>1</td>\n",
       "    </tr>\n",
       "    <tr>\n",
       "      <th>2</th>\n",
       "      <td>31112</td>\n",
       "      <td>Male</td>\n",
       "      <td>80.0</td>\n",
       "      <td>0</td>\n",
       "      <td>1</td>\n",
       "      <td>Yes</td>\n",
       "      <td>Private</td>\n",
       "      <td>Rural</td>\n",
       "      <td>105.92</td>\n",
       "      <td>32.5</td>\n",
       "      <td>never smoked</td>\n",
       "      <td>1</td>\n",
       "    </tr>\n",
       "    <tr>\n",
       "      <th>3</th>\n",
       "      <td>60182</td>\n",
       "      <td>Female</td>\n",
       "      <td>49.0</td>\n",
       "      <td>0</td>\n",
       "      <td>0</td>\n",
       "      <td>Yes</td>\n",
       "      <td>Private</td>\n",
       "      <td>Urban</td>\n",
       "      <td>171.23</td>\n",
       "      <td>34.4</td>\n",
       "      <td>smokes</td>\n",
       "      <td>1</td>\n",
       "    </tr>\n",
       "    <tr>\n",
       "      <th>4</th>\n",
       "      <td>1665</td>\n",
       "      <td>Female</td>\n",
       "      <td>79.0</td>\n",
       "      <td>1</td>\n",
       "      <td>0</td>\n",
       "      <td>Yes</td>\n",
       "      <td>Self-employed</td>\n",
       "      <td>Rural</td>\n",
       "      <td>174.12</td>\n",
       "      <td>24.0</td>\n",
       "      <td>never smoked</td>\n",
       "      <td>1</td>\n",
       "    </tr>\n",
       "  </tbody>\n",
       "</table>\n",
       "</div>"
      ],
      "text/plain": [
       "      id  gender   age  hypertension  heart_disease ever_married  \\\n",
       "0   9046    Male  67.0             0              1          Yes   \n",
       "1  51676  Female  61.0             0              0          Yes   \n",
       "2  31112    Male  80.0             0              1          Yes   \n",
       "3  60182  Female  49.0             0              0          Yes   \n",
       "4   1665  Female  79.0             1              0          Yes   \n",
       "\n",
       "       work_type Residence_type  avg_glucose_level   bmi   smoking_status  \\\n",
       "0        Private          Urban             228.69  36.6  formerly smoked   \n",
       "1  Self-employed          Rural             202.21   NaN     never smoked   \n",
       "2        Private          Rural             105.92  32.5     never smoked   \n",
       "3        Private          Urban             171.23  34.4           smokes   \n",
       "4  Self-employed          Rural             174.12  24.0     never smoked   \n",
       "\n",
       "   stroke  \n",
       "0       1  \n",
       "1       1  \n",
       "2       1  \n",
       "3       1  \n",
       "4       1  "
      ]
     },
     "execution_count": 2,
     "metadata": {},
     "output_type": "execute_result"
    }
   ],
   "source": [
    "import pandas as pd\n",
    "\n",
    "url = \"https://gist.githubusercontent.com/aishwarya8615/d2107f828d3f904839cbcb7eaa85bd04/raw/healthcare-dataset-stroke-data.csv\"\n",
    "df = pd.read_csv(url)\n",
    "\n",
    "df.head()"
   ]
  },
  {
   "cell_type": "markdown",
   "id": "98936efa",
   "metadata": {},
   "source": [
    "From this, we can see that there are factors which may matter for inference, and there are others which may have less impact. Let's say for the purpose of this presentation, we want to check if age and bmi are causal factors leading to strokes."
   ]
  },
  {
   "cell_type": "markdown",
   "id": "9f80f265",
   "metadata": {},
   "source": [
    "Let's clean the data first. "
   ]
  },
  {
   "cell_type": "code",
   "execution_count": null,
   "id": "688c26a5",
   "metadata": {},
   "outputs": [],
   "source": [
    "df = df[['age', 'bmi', 'stroke']].dropna() \n"
   ]
  },
  {
   "cell_type": "markdown",
   "id": "58af72d9",
   "metadata": {},
   "source": [
    "How should we base our visualization?"
   ]
  },
  {
   "cell_type": "code",
   "execution_count": 27,
   "id": "05539690",
   "metadata": {},
   "outputs": [
    {
     "name": "stdout",
     "output_type": "stream",
     "text": [
      "The bmi distribution has a mean of 28.893 and a standard deviation of 7.854\n"
     ]
    }
   ],
   "source": [
    "mu = df['bmi'].mean()\n",
    "sig = df['bmi'].std()\n",
    "\n",
    "print(f\"The bmi distribution has a mean of {mu:.3f} and a standard deviation of {sig:.3f}\")\n",
    "\n",
    "min = mu - sig *.25\n",
    "max = floor(min)\n",
    "max = mu + sig *.25\n",
    "max = floor(max)\n",
    "\n",
    "\n",
    "\n"
   ]
  },
  {
   "cell_type": "code",
   "execution_count": 28,
   "id": "9697d6b1",
   "metadata": {},
   "outputs": [
    {
     "data": {
      "image/png": "[encoded data removed]",
      "text/plain": [
       "<Figure size 800x500 with 1 Axes>"
      ]
     },
     "metadata": {},
     "output_type": "display_data"
    }
   ],
   "source": [
    "bootstrap_stats = []  # Store bootstrapped means\n",
    "n_bootstraps = 200\n",
    "\n",
    "fig, ax = plt.subplots(figsize=(8, 5))\n",
    "sns.histplot(bootstrap_stats, bins=30, stat='density', color='skyblue', kde=True, ax=ax)\n",
    "text = ax.text(0.02, 0.95, '', transform=ax.transAxes)\n",
    "\n",
    "# 4. Animation update function\n",
    "def update(frame):\n",
    "    ax.clear()\n",
    "    sample = np.random.choice(df['bmi'], size=len(df), replace=True)\n",
    "    boot_mean = np.mean(sample)\n",
    "    bootstrap_stats.append(boot_mean)\n",
    "\n",
    "    sns.histplot(bootstrap_stats, bins=30, stat='density', color='skyblue', kde=True, ax=ax)\n",
    "    ax.axvline(np.mean(bootstrap_stats), color='red', linestyle='--', label='Bootstrap Mean')\n",
    "    ax.set_title(f\"Bootstrap Sampling of BMI\\nIteration {frame + 1}\")\n",
    "    ax.set_xlabel(\"Bootstrapped Mean BMI\")\n",
    "    ax.set_ylabel(\"Density\")\n",
    "    ax.legend()\n",
    "    ax.set_xlim(min, max)\n",
    "    text.set_text(f\"Iteration: {frame + 1}\")\n",
    "\n",
    "# 5. Create animation\n",
    "ani = FuncAnimation(fig, update, frames=n_bootstraps, interval=100, repeat=False)\n",
    "\n",
    "ani.save(\"bootstrap_bmi.gif\", writer=\"pillow\")\n",
    "plt.tight_layout()\n",
    "plt.show()"
   ]
  }
 ],
 "metadata": {
  "kernelspec": {
   "display_name": "cosmos",
   "language": "python",
   "name": "python3"
  },
  "language_info": {
   "codemirror_mode": {
    "name": "ipython",
    "version": 3
   },
   "file_extension": ".py",
   "mimetype": "text/x-python",
   "name": "python",
   "nbconvert_exporter": "python",
   "pygments_lexer": "ipython3",
   "version": "3.12.11"
  }
 },
 "nbformat": 4,
 "nbformat_minor": 5
}
