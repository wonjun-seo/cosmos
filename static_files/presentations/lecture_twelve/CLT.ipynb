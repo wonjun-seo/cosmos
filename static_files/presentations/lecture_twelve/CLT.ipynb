{
 "cells": [
  {
   "cell_type": "markdown",
   "id": "99309456",
   "metadata": {},
   "source": [
    "# Central Limit Theorem & Sampling Distribution\n",
    "\n",
    "In this notebook, we examine the Central Limit Theorem (CLT) and sampling distribution using simulation. "
   ]
  },
  {
   "cell_type": "markdown",
   "id": "6b2210a2",
   "metadata": {},
   "source": [
    "### Central Limit Theorem"
   ]
  },
  {
   "cell_type": "markdown",
   "id": "12f65c08",
   "metadata": {},
   "source": [
    "Q: Suppose that you gather $n=10$ independent observations, and find that the average is $1.9$. Suppose that one of your friend gathers another bacth of $10$ independent observations, will the average of the new sample be larger or small than $1.9$?\n",
    "\n",
    "> Refresher:  The **Central Limit Theorem** states that, given a sufficiently large sample size, the distribution of the sample mean of independent, identically distributed random variables approaches a normal (Gaussian) distribution, regardless of the original population's distribution, provided the population has a finite mean and variance.\n",
    "\n"
   ]
  },
  {
   "cell_type": "markdown",
   "id": "3b32e8d2",
   "metadata": {},
   "source": []
  },
  {
   "cell_type": "markdown",
   "id": "2efcd7a0",
   "metadata": {},
   "source": [
    "Using rigorous notation, the basic Central Limit Theorem states the following. \n",
    "\n",
    "Let $X_1, X_2, \\dots, X_n$ be a random sample of size $n$ drawn from a population with mean $\\mu$ and finite variance $\\sigma^2$. Define the sample mean as:\n",
    "\n",
    "$$\n",
    "\\bar{X}_n = \\frac{1}{n} \\sum_{i=1}^n X_i\n",
    "$$\n",
    "\n",
    "Then, as $n \\to \\infty$, the distribution of the standardized sample mean approaches the standard normal distribution:\n",
    "\n",
    "$$\n",
    "\\frac{\\bar{X}_n - \\mu}{\\sigma / \\sqrt{n}} \\xrightarrow{d} \\mathcal{N}(0, 1)\n",
    "$$\n",
    "\n",
    "That is, for large $n$, the sample mean $\\bar{X}_n$ is approximately normally distributed, regardless of the original distribution of the $X_i$’s.\n"
   ]
  },
  {
   "cell_type": "code",
   "execution_count": 4,
   "id": "f9fce4c8",
   "metadata": {},
   "outputs": [],
   "source": [
    "import numpy as np, pandas as pd, matplotlib.pyplot as plt, seaborn as sns\n",
    "from scipy import stats\n",
    "import ipywidgets as widgets\n",
    "from pathlib import Path\n",
    "\n",
    "random_seed=42\n",
    "sns.set_theme()\n",
    "rng = np.random.default_rng(random_seed)"
   ]
  },
  {
   "cell_type": "code",
   "execution_count": 5,
   "id": "f88fdcfa",
   "metadata": {},
   "outputs": [
    {
     "data": {
      "application/vnd.jupyter.widget-view+json": {
       "model_id": "0f5c7d5ea07344288c6a9aaf44ea46c9",
       "version_major": 2,
       "version_minor": 0
      },
      "text/plain": [
       "interactive(children=(Dropdown(description='n', index=1, options=(2, 5, 10, 30, 50, 100), value=5), IntSlider(…"
      ]
     },
     "metadata": {},
     "output_type": "display_data"
    }
   ],
   "source": [
    "def sample_mean_dist(n=5, reps=5000):\n",
    "    data = rng.exponential(scale=1, size=(reps, n))\n",
    "    means = data.mean(axis=1)\n",
    "    plt.figure(figsize=(6,4))\n",
    "    sns.histplot(means, bins=30, stat='density', label='Sample means')\n",
    "    plt.axvline(1, ls='--', label='True mean')\n",
    "    # Overlay normal density curve\n",
    "    x = np.linspace(means.min(), means.max(), 200)\n",
    "    normal_density = stats.norm.pdf(x, loc=1, scale=1/np.sqrt(n))\n",
    "    plt.plot(x, normal_density, color='red', label='Normal (CLT)')\n",
    "    plt.title(f\"Sampling distribution (n={n})\")\n",
    "    plt.legend()\n",
    "    plt.show()\n",
    "\n",
    "widgets.interact(sample_mean_dist, n=[2,5,10,30,50,100]);\n"
   ]
  },
  {
   "cell_type": "markdown",
   "id": "bfaae1fd",
   "metadata": {},
   "source": [
    "### Sampling Distribution"
   ]
  },
  {
   "cell_type": "markdown",
   "id": "5c78d881",
   "metadata": {},
   "source": [
    "In the previous example, we know that the sample mean $\\bar{X}_n$ follows a normal distribution asymptotically\n",
    "$$\\frac{\\bar{X}_n - \\mu}{\\sigma / \\sqrt{n}} \\xrightarrow{d} \\mathcal{N}(0, 1).$$ \n",
    "If we consider a simple linear regression, $i=1,2,\\ldots, n$\n",
    "$$y_i = \\beta_1 x_i + \\beta_0 \\epsilon_i.$$\n",
    "We can show that the OLS estimator for $\\beta_1$ is also in the form of an average\n",
    "$$\n",
    "\\hat{\\beta}_1 = \\frac{\\sum_{i=1}^n (x_i - \\bar{x})(y_i - \\bar{y})}{\\sum_{i=1}^n (x_i - \\bar{x})^2}.\n",
    "$$\n",
    "\n",
    "In the numeric example below, we will generate data from a model \n",
    "$$y = 2x + \\epsilon,$$ \n",
    "where $x \\sim \\mathcal{N}(0, 2)$ and $\\epsilon$ can be selected from uniform $U(-5,5)$, normal $\\mathcal{N}(0, 2)$, or Poisson with mean $4$ (the constant mean can be handled by the intercept)."
   ]
  },
  {
   "cell_type": "code",
   "execution_count": 7,
   "id": "64013255",
   "metadata": {},
   "outputs": [
    {
     "data": {
      "application/vnd.jupyter.widget-view+json": {
       "model_id": "586dc15927904c8f962aa5f4729e8031",
       "version_major": 2,
       "version_minor": 0
      },
      "text/plain": [
       "interactive(children=(Dropdown(description='n', index=1, options=(2, 5, 10, 30, 50, 100), value=5), Dropdown(d…"
      ]
     },
     "metadata": {},
     "output_type": "display_data"
    }
   ],
   "source": [
    "import numpy as np\n",
    "import matplotlib.pyplot as plt\n",
    "import seaborn as sns\n",
    "import ipywidgets as widgets\n",
    "from sklearn.linear_model import LinearRegression\n",
    "\n",
    "# Set random generator\n",
    "rng = np.random.default_rng()\n",
    "\n",
    "def sample_slope_dist(n=5, eps_type='normal', reps=5000):\n",
    "    slopes = []\n",
    "\n",
    "    for _ in range(reps):\n",
    "        x = rng.normal(loc=0, scale=np.sqrt(2), size=n).reshape(-1, 1)\n",
    "\n",
    "        if eps_type == 'uniform':\n",
    "            epsilon = rng.uniform(low=-5, high=5, size=n)\n",
    "        elif eps_type == 'normal':\n",
    "            epsilon = rng.normal(loc=0, scale=np.sqrt(2), size=n)\n",
    "        elif eps_type == 'poisson':\n",
    "            epsilon = rng.poisson(lam=4, size=n)\n",
    "        else:\n",
    "            raise ValueError(\"eps_type must be 'uniform', 'normal', or 'poisson'\")\n",
    "        \n",
    "        y = 2 * x.flatten() + epsilon\n",
    "        model = LinearRegression().fit(x, y)\n",
    "        slopes.append(model.coef_[0])\n",
    "\n",
    "    # Plot\n",
    "    plt.figure(figsize=(6, 4))\n",
    "    sns.histplot(slopes, bins=30, stat='density', color='skyblue', label='Estimated slopes')\n",
    "    plt.axvline(2, ls='--', color='black', label='True slope = 2')\n",
    "\n",
    "    # Normal approximation overlay (optional, assumes CLT)\n",
    "    mean = np.mean(slopes)\n",
    "    std = np.std(slopes)\n",
    "    x_vals = np.linspace(min(slopes), max(slopes), 200)\n",
    "    normal_density = stats.norm.pdf(x_vals, loc=mean, scale=std)\n",
    "    plt.plot(x_vals, normal_density, color='red', label='Normal Approximation', linewidth=2)\n",
    "\n",
    "    plt.title(f\"Sampling Distribution of $\\\\hat{{\\\\beta}}_1$ (n={n}, $\\\\epsilon$={eps_type})\")\n",
    "    plt.xlabel(\"Estimated slope ($\\\\hat{\\\\beta}_1$)\")\n",
    "    plt.ylabel(\"Density\")\n",
    "    plt.legend()\n",
    "    plt.show()\n",
    "\n",
    "# Interactivity\n",
    "widgets.interact(\n",
    "    sample_slope_dist,\n",
    "    n=[2, 5, 10, 30, 50, 100],\n",
    "    eps_type=['uniform', 'normal', 'poisson']\n",
    ");\n"
   ]
  }
 ],
 "metadata": {
  "kernelspec": {
   "display_name": "base",
   "language": "python",
   "name": "python3"
  },
  "language_info": {
   "codemirror_mode": {
    "name": "ipython",
    "version": 3
   },
   "file_extension": ".py",
   "mimetype": "text/x-python",
   "name": "python",
   "nbconvert_exporter": "python",
   "pygments_lexer": "ipython3",
   "version": "3.11.5"
  }
 },
 "nbformat": 4,
 "nbformat_minor": 5
}
