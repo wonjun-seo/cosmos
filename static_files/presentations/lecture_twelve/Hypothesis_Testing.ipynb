{
 "cells": [
  {
   "cell_type": "markdown",
   "id": "20890b70",
   "metadata": {},
   "source": [
    "# Hypothesis Testing"
   ]
  },
  {
   "cell_type": "markdown",
   "id": "1a233aab",
   "metadata": {},
   "source": [
    "### 1 Rationale \n",
    "\n",
    "- We know (or believe) that there *is* a ground truth.    \n",
    "    Otherwise, switch to Bayesian analysis!\n",
    "- The truth shall be revealed if we were able to observe infinite observations.   \n",
    "    We can't observe infinite observations.\n",
    "- We have to work with the finite observations $\\mathcal{D}$ at hand.   \n",
    "    Reformat the question from: what is the truth?   \n",
    "    To: how **likely** is it for us to observe $\\mathcal{D}$ if the truth is, say, $\\theta=1$. \n",
    "- Estimation: Find the truth $\\hat{\\theta}$ that maximize the likelihood $\\rightarrow$ maximum likelihood estimator \n",
    "- Hypothesis testing:   \n",
    "    1. If we have a candidate $\\theta_0$, we can estimate how likely it is to observe new data $\\mathcal{D}'$ that is more extreme than $\\mathcal{D}$ given $\\theta =\\theta_0$.    \n",
    "    2. We can use the **measure of extremity** to quantify the \"plausibility\" of the hypothesis that $\\theta=\\theta_0$.  \n",
    "    3. If we have to make a binary decison (e.g., yes or no), we choose a **threshold** for the extremity measure:   \n",
    "        Extremity measure $>$ threshold $\\rightarrow$ too extreme $\\rightarrow$ no, the hypothesis does not hold \n",
    "        Extremity measure $\\leq$ threshold $\\rightarrow$ not so extreme $\\rightarrow$ ... maybe we don't have enough evidence to falsify the hypothesis\n",
    "    "
   ]
  },
  {
   "cell_type": "markdown",
   "id": "97485382",
   "metadata": {},
   "source": [
    "### 2 Hypothesis Testing Fundamentals  \n",
    "\n",
    "We will review a few key concepts in hypothesis testing without getting into (too much) details. \n"
   ]
  },
  {
   "cell_type": "markdown",
   "id": "aa142cdb",
   "metadata": {},
   "source": [
    "#### 2.1 Ingradients of a test"
   ]
  },
  {
   "cell_type": "markdown",
   "id": "2d62e766",
   "metadata": {},
   "source": [
    "**Null hypothesis ($H_0$)**: a statement saying that there is no effect/difference (hence the *null* hypothesis); the statement that you do *not* want to be true.\n",
    "\n",
    "**Alternative hypothesis ($H_a$ or $H_1$)**: an alternative statement when the null is not true; the statement that you want evidence for. \n",
    "\n",
    "\n",
    "Q: What are the null and one alternative hypothesese for the following questions of interest:\n",
    "1. Drug-effectiveness study. A pharmaceutical company wants to demonstrate that their new drug lowers mean systolic blood pressure more than the current drug already on the market.\n",
    "2. A generic-medicine manufacturer must show that its generic pill is equivalent to the branded reference drug in average blood–plasma concentration (AUC). Regulatory guidelines define equivalent as the mean difference lying within $\\pm 5 \\%$ of the branded drug’s mean.  "
   ]
  },
  {
   "cell_type": "markdown",
   "id": "482726ed",
   "metadata": {},
   "source": [
    "**Test statistic**: a summary measure of the samples that quantify how extreme the samples is.  \n",
    "- The choice of this measure depends on the hypotheses.\n",
    "\n",
    "**Null distribution** (of the test statistic): the sampling distribution of the test statistic when the null hypothesis is true \n",
    "- The distribution depends on the test statistics in used as well as other model assumptions.\n",
    "\n",
    "**p-value**: the probability, under the null hypothesis, of obtaining a test statistic as extreme as or more extreme than the one observed.   \n",
    "- Another extremity measure. But unlike the test statistics, p-value is (literally) uniform across all tests:   \n",
    "    p-value follows a uniform distribution under the null hypothesis\n",
    "\n",
    "\n",
    "**Significance level**: the threshold for the p-value (commonly denoted as $\\alpha$) for rejecting the null hypothesis.\n",
    "- Also known as the *nominal* significance level, to acknowledge that the model assumptions might be off\n",
    "- Significance level equals the probability of falsely reject a null hypothesis when the null is true (Type I error rate) and all assumptions hold.\n",
    "\n",
    "**Critical value**: the threshold for the test statistic that corresponds to the chosen significance level\n",
    "\n",
    "> Note: Sometimes we have to approximate the null distribution at finite sample size using the *asymptotic* distribution (i.e., the null distribution when sample size approaches infinity). It is clear that this approximation is acceptable only when the difference between the true null distribution and the asymptotic distribution is sufficiently small. Asymptotic theory guarantees sufficiently small difference between the two distributions, when the sample size is sufficiently large.  "
   ]
  },
  {
   "cell_type": "markdown",
   "id": "41cba7ca",
   "metadata": {},
   "source": [
    "With these key concepts introduced, we can descripe a generic testing procedure as follows.\n",
    "\n",
    "**Sample testing procedure**\n",
    "\n",
    "1. Write down the null and alternative hypotheses\n",
    "2. Pick a nominal significance level (i.e., $\\alpha$) (e.g. 0.05).  \n",
    "3. Pick a test and compute the test statistic.  \n",
    "4. State the test result\n",
    "    - Critical-value approach: Find the critical value, and reject the null if the test statistic is larger than the critical value; otherwise **fail to reject** the null.  \n",
    "    - p-value approach: calculate the p-value, and reject the null if $p < \\alpha$; otherwise **fail to reject** the null.\n"
   ]
  },
  {
   "cell_type": "markdown",
   "id": "ba39a8cf",
   "metadata": {},
   "source": [
    "> Note: We do **not** accept any hypothesis! Statisticians only reject or fail to reject."
   ]
  },
  {
   "cell_type": "code",
   "execution_count": null,
   "id": "6e5c0553",
   "metadata": {},
   "outputs": [
    {
     "data": {
      "application/vnd.jupyter.widget-view+json": {
       "model_id": "e59507e25856456ea739a72fbf6e0a64",
       "version_major": 2,
       "version_minor": 0
      },
      "text/plain": [
       "interactive(children=(FloatSlider(value=0.5, description='True μ', max=1.0, min=-1.0), IntSlider(value=30, des…"
      ]
     },
     "metadata": {},
     "output_type": "display_data"
    }
   ],
   "source": [
    "import numpy as np\n",
    "import matplotlib.pyplot as plt\n",
    "import scipy.stats as st\n",
    "\n",
    "try:\n",
    "    from ipywidgets import interact, FloatSlider, IntSlider\n",
    "    HAVE_WIDGETS = True\n",
    "except ModuleNotFoundError:\n",
    "    HAVE_WIDGETS = False\n",
    "\n",
    "rng = np.random.default_rng(0)\n",
    "\n",
    "def hypo_demo(mu_true=0.5, n=30, alpha=0.05):\n",
    "    \"\"\"\n",
    "    Interactive demo for two‑sided one‑sample t‑test.\n",
    "    \"\"\"\n",
    "    mu0 = 0\n",
    "    x = rng.normal(loc=mu_true, scale=1, size=n)\n",
    "    xbar, s = x.mean(), x.std(ddof=1)\n",
    "    t_stat = (xbar - mu0) / (s / np.sqrt(n))\n",
    "    df = n - 1\n",
    "    t_crit = st.t.ppf(1 - alpha/2, df)\n",
    "    p_val = 2 * (1 - st.t.cdf(abs(t_stat), df))\n",
    "    \n",
    "    xs = np.linspace(-4, 4, 400)\n",
    "    pdf = st.t.pdf(xs, df)\n",
    "    \n",
    "    plt.figure(figsize=(7,4))\n",
    "    plt.plot(xs, pdf, label=f\"null t-dist (df={df})\")\n",
    "    plt.fill_between(xs, 0, pdf, where=(xs <= -t_crit) | (xs >= t_crit),\n",
    "                     color=\"lightcoral\", alpha=0.4,\n",
    "                     label=f\"Rejection region (α={alpha:.4g})\")\n",
    "    plt.axvline(t_stat, color=\"navy\", ls=\"--\", lw=2,\n",
    "                label=f\"Observed t = {t_stat:.2f}\")\n",
    "    plt.xlabel(\"t value\"); plt.ylabel(\"Density\")\n",
    "    plt.title(\"Null distribution & critical regions\")\n",
    "    plt.legend()\n",
    "    plt.show()\n",
    "    \n",
    "    decision = f\"Reject the null hypothesis at nominal significance level {alpha:.4g}\" if abs(t_stat) > t_crit else f\"Fail to reject the null at nominal significance level {alpha:.4g}\"\n",
    "    print(f\"Sample mean = {xbar:.3f}\")\n",
    "    print(f\"t = {t_stat:.3f},  critical ±{t_crit:.3f}\")\n",
    "    print(f\"p-value = {p_val:.4f}  👉  {decision}\")\n",
    "\n",
    "if HAVE_WIDGETS:\n",
    "    interact(\n",
    "        hypo_demo,\n",
    "        mu_true=FloatSlider(value=0.5, min=-1.0, max=1.0, step=0.1, description='True μ'),\n",
    "        n=IntSlider(value=30, min=10, max=100, step=5, description='Sample n'),\n",
    "        alpha=FloatSlider(value=0.05, min=0.01, max=0.10, step=0.01, readout_format='.02f')\n",
    "    )\n",
    "else:\n",
    "    print(\"ipywidgets is not installed in this environment. \"\n",
    "          \"Run hypo_demo(mu_true=0.5, n=30, alpha=0.05) manually or install ipywidgets for sliders.\")\n",
    "\n"
   ]
  },
  {
   "cell_type": "markdown",
   "id": "e56659d8",
   "metadata": {},
   "source": [
    "🐧 **Example 1 – Penguin bill length**  \n",
    "**Question:** Do Adelie and Gentoo penguins have different average bill lengths?  Dataset comes from *palmerpenguins* via Seaborn.\n"
   ]
  },
  {
   "cell_type": "code",
   "execution_count": null,
   "id": "b6154c97",
   "metadata": {},
   "outputs": [
    {
     "data": {
      "image/png": "[encoded data removed]",
      "text/plain": [
       "<Figure size 640x480 with 1 Axes>"
      ]
     },
     "metadata": {},
     "output_type": "display_data"
    },
    {
     "name": "stdout",
     "output_type": "stream",
     "text": [
      "Welch t = -24.73, p = 3.087e-68\n"
     ]
    }
   ],
   "source": [
    "from palmerpenguins import load_penguins\n",
    "\n",
    "penguins = load_penguins().dropna(subset=['bill_length_mm','species'])\n",
    "adelie = penguins[penguins['species']=='Adelie']['bill_length_mm']\n",
    "gentoo = penguins[penguins['species']=='Gentoo']['bill_length_mm']\n",
    "\n",
    "# Visual\n",
    "sns.kdeplot(data=penguins, x='bill_length_mm', hue='species', common_norm=False)\n",
    "plt.show()\n",
    "\n",
    "# Two‑sample Welch t‑test\n",
    "tstat, pval = stats.ttest_ind(adelie, gentoo, equal_var=False)\n",
    "print(f\"Welch t = {tstat:.2f}, p = {pval:.4g}\")\n",
    "\n"
   ]
  },
  {
   "cell_type": "markdown",
   "id": "deac083e",
   "metadata": {},
   "source": [
    "#### 2.2 Evaluation metrics\n",
    "\n",
    "**Type I error:** rejecting the null hypothesis when the null hypothesis is true; false positive. \n",
    "\n",
    "**Type II error:** failing to reject the null hypothesis when the alternative hypothesis is true; false negative.\n",
    "\n",
    "**Type I error rate:** the probability of rejecting the null hypothesis when the null hypothesis is true. \n",
    "\n",
    "**Type II error rate:** the probability of failing to reject the null hypothsis when the alternative hypothesis is true.\n",
    "\n",
    "**Power:** probability of rejecting the null hypothesis when the alternative hypothesis is true.\n",
    "- Power analysis and sample size calculation: \n",
    "    Calculate the required sample size to ensure desired power of the test. \n",
    "    Require the alternative hypothesis. \n",
    "    Can use analytic results or simulation.\n",
    "\n",
    "\n",
    "> Note: Almost all metrics in the [confusion matrix](https://en.wikipedia.org/wiki/Confusion_matrix) apply here, since the test result (postive or negative) and truth (null or alternative) are both binary. "
   ]
  },
  {
   "cell_type": "code",
   "execution_count": null,
   "id": "a959365b",
   "metadata": {},
   "outputs": [
    {
     "data": {
      "application/vnd.jupyter.widget-view+json": {
       "model_id": "e3c808ea2ad14808abeba53235e85e57",
       "version_major": 2,
       "version_minor": 0
      },
      "text/plain": [
       "HBox(children=(VBox(children=(FloatSlider(value=0.0, continuous_update=False, description='Δ = p_B - p_A', max…"
      ]
     },
     "metadata": {},
     "output_type": "display_data"
    }
   ],
   "source": [
    "import numpy as np, matplotlib.pyplot as plt, seaborn as sns\n",
    "from scipy import stats\n",
    "import ipywidgets as widgets\n",
    "from IPython.display import display, clear_output\n",
    "\n",
    "sns.set_theme()\n",
    "rng = np.random.default_rng(42)\n",
    "\n",
    "# ---------- simulation function ----------\n",
    "def ab_sim(n_A=1000, n_B=1000, p_A=0.08, p_B=0.10, reps=10000):\n",
    "    pvals = []\n",
    "    for _ in range(reps):\n",
    "        conv_A = rng.binomial(n_A, p_A)\n",
    "        conv_B = rng.binomial(n_B, p_B)\n",
    "        table  = np.array([[conv_A, n_A-conv_A],\n",
    "                           [conv_B, n_B-conv_B]])\n",
    "        chi2, p, *_ = stats.chi2_contingency(table, correction=False)\n",
    "        pvals.append(p)\n",
    "    return np.array(pvals)\n",
    "\n",
    "# ---------- interactive widgets ----------\n",
    "p_A_fixed   = 0.08                                         # baseline conversion\n",
    "delta_sl    = widgets.FloatSlider(value=0.00, min=-0.10, max=0.10,\n",
    "                                  step=0.01, description='Δ = p_B - p_A',\n",
    "                                  continuous_update=False, readout_format='.02f')\n",
    "reps_sl     = widgets.IntSlider(value=5000, min=1000, max=20000, step=1000,\n",
    "                                  description='Replicates', continuous_update=False)\n",
    "\n",
    "out_plot = widgets.Output()\n",
    "\n",
    "def run_sim(delta, reps):\n",
    "    p_B = np.clip(p_A_fixed + delta, 0, 1)                 # keep probabilities valid\n",
    "    pvals = ab_sim(p_A=p_A_fixed, p_B=p_B, reps=reps)\n",
    "\n",
    "    power = (pvals < 0.05).mean()\n",
    "\n",
    "    with out_plot:\n",
    "        clear_output(wait=True)\n",
    "        plt.figure(figsize=(6,4))\n",
    "        sns.histplot(pvals, bins=30, color=\"steelblue\", edgecolor=\"white\")\n",
    "        plt.axvline(0.05, color=\"red\", ls=\"--\", label=\"α = 0.05\")\n",
    "        plt.title(f\"p-value distribution  |  power ≈ {power:.3f}\\n\"\n",
    "                  f\"(p_A={p_A_fixed:.2f}, p_B={p_B:.2f}, n=1000 each)\")\n",
    "        plt.xlabel(\"p-value\"); plt.legend()\n",
    "        plt.tight_layout()\n",
    "        plt.show()\n",
    "\n",
    "widgets.interactive_output(run_sim, {'delta': delta_sl, 'reps': reps_sl})\n",
    "\n",
    "# ---------- layout: sidebar (left) + plot (right) ----------\n",
    "ui = widgets.VBox([delta_sl, reps_sl])\n",
    "display(widgets.HBox([ui, out_plot]))\n"
   ]
  },
  {
   "cell_type": "markdown",
   "id": "6aa70627",
   "metadata": {},
   "source": [
    "### 3 Common Parametric Tests"
   ]
  },
  {
   "cell_type": "markdown",
   "id": "767f8f08",
   "metadata": {},
   "source": [
    "| Test | Typical Question | H₀ / H₁ (two-sided) | Test statistic | Null distribution | Key assumptions |\n",
    "|------|------------------|---------------------|----------------|-------------------|-----------------|\n",
    "| One-sample $t$-test | Is the population mean equal to $\\mu_0$? |$H_0: \\mu = \\mu_0$ <br> $H_a: \\mu \\neq \\mu_0$ | $ t = \\dfrac{\\bar x - \\mu_0}{s/\\sqrt{n}} $ | *t*-dist (df = *n* − 1) | Independent, approx. normal (or *n* > 30), unknown σ |\n",
    "| Two-sample $t$-test <br>(pooled / equal-var) | Do two populations have the same mean? | $H_0: \\mu_1 = \\mu_2$ <br> $H_a: \\mu_1 \\neq \\mu_2$ | $t = \\dfrac{\\bar x_1 - \\bar x_2}{s_p\\sqrt{\\tfrac1{n_1}+\\tfrac1{n_2}}} $<br> $s_p^2 =\\tfrac{(n_1-1)s_1^2+(n_2-1)s_2^2}{n_1+n_2-2}$ | *t*-dist (df = *n₁ + n₂ − 2*) | Independent samples, normality, **equal variances** |\n",
    "| One-sample $z$-test | Is the population mean equal to μ₀ *with known σ*? | $$H_0: \\mu = \\mu_0$ <br> $H_a: \\mu \\neq \\mu_0$ | $ z = \\dfrac{\\bar x - \\mu_0}{\\sigma/\\sqrt{n}} $ | Standard normal *N*(0, 1) | Population σ known **and** normal (or *n* large) |\n",
    "| F-test for equal variances | Do three samples have the same mean? | $H_0: \\mu_1 = \\mu_2=\\mu_3$ <br> $H_a: \\mu_i \\neq \\mu_j$ for some $i,j$| $F={\\rm MSTR}/{\\rm MSE}$| *F*-dist $(df_1 = r, df_2 = n-3)$ | Independent samples, normality |\n",
    "\n"
   ]
  },
  {
   "cell_type": "markdown",
   "id": "67bb56d7",
   "metadata": {},
   "source": []
  }
 ],
 "metadata": {
  "kernelspec": {
   "display_name": "base",
   "language": "python",
   "name": "python3"
  },
  "language_info": {
   "codemirror_mode": {
    "name": "ipython",
    "version": 3
   },
   "file_extension": ".py",
   "mimetype": "text/x-python",
   "name": "python",
   "nbconvert_exporter": "python",
   "pygments_lexer": "ipython3",
   "version": "3.11.5"
  }
 },
 "nbformat": 4,
 "nbformat_minor": 5
}
