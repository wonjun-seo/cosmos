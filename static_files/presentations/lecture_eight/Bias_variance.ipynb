{
 "cells": [
  {
   "cell_type": "markdown",
   "id": "010b8c09",
   "metadata": {},
   "source": [
    "# Bias-Variance Tradeoff\n",
    "\n",
    "We will investigate the bias-variance tradeoff using a simulated example. \n",
    "\n",
    "Recall that \n",
    "- Bias: patterns in the mapping ($X \\rightarrow y$) failed to be captured by an underparameterized model \n",
    "- Variance: unrealiable estimates of the true parameters due to overparameterization, given finite samples\n",
    "\n",
    "We will generate data from the following model\n",
    "$$\\mathbb{E}[y \\mid x] \\;=\\; \\sin (\\pi x ) \\;+\\; 0.5\\,\\sin (2\\pi x ).$$\n",
    "\n",
    "Todo: \n",
    "- Run the following cell to invoke the interactive plot.  \n",
    "- Change the type of basis functions and the number of basis functions.  \n",
    "- Explain your observations. "
   ]
  },
  {
   "cell_type": "code",
   "execution_count": 1,
   "id": "e8b490dd",
   "metadata": {},
   "outputs": [],
   "source": [
    "import numpy as np, matplotlib.pyplot as plt, seaborn as sns\n",
    "from ipywidgets import Button, Output, VBox\n",
    "from IPython.display import display\n",
    "from matplotlib.patches import Rectangle\n"
   ]
  },
  {
   "cell_type": "code",
   "execution_count": 2,
   "id": "6529b156",
   "metadata": {},
   "outputs": [
    {
     "data": {
      "application/vnd.jupyter.widget-view+json": {
       "model_id": "03a638af2b67443ea1a8d6b1e6219660",
       "version_major": 2,
       "version_minor": 0
      },
      "text/plain": [
       "VBox(children=(HBox(children=(Dropdown(description='Basis:', options=('Polynomial', 'Trigonometric', 'B-spline…"
      ]
     },
     "metadata": {},
     "output_type": "display_data"
    }
   ],
   "source": [
    "sns.set_theme()\n",
    "from scipy.interpolate import BSpline\n",
    "from ipywidgets import Dropdown, IntSlider, Output, VBox, HBox\n",
    "from IPython.display import display\n",
    "\n",
    "# ------------------------------------------------------------------\n",
    "# fixed design & true signal\n",
    "n = 100\n",
    "x_grid = np.linspace(0, 4, n)\n",
    "f_true = np.sin(np.pi * x_grid) + 0.5 * np.sin(2 * np.pi * x_grid)\n",
    "sigma2 = 1.0                      # Var[ε]\n",
    "\n",
    "# ------------------------------------------------------------------\n",
    "def design_matrix(x, K, basis):\n",
    "    x = np.asarray(x)\n",
    "    if basis == \"Polynomial\":\n",
    "        cols = [x**k for k in range(1, K + 1)]\n",
    "    elif basis == \"Trigonometric\":\n",
    "        cols = [np.sin(j * np.pi * x / 2) for j in range(1, K + 1)]\n",
    "        cols += [np.cos(j * np.pi * x / 2) for j in range(1, K + 1)]\n",
    "    elif basis.startswith(\"B-spline\"):\n",
    "        deg = 1 if \"linear\" in basis else 3\n",
    "        # uniform internal knots so ~K basis functions\n",
    "        n_knots = K + deg + 1\n",
    "        t = np.r_[[x[0]] * (deg+1),\n",
    "                   np.linspace(x[0], x[-1], n_knots - (deg+1)*2 + 2)[1:-1],\n",
    "                   [x[-1]] * (deg+1)]\n",
    "        cols = [BSpline(t, (np.arange(len(t)-deg-1)==i).astype(float), deg)(x)\n",
    "                for i in range(len(t)-deg-1)]\n",
    "    else:\n",
    "        raise ValueError(\"Unknown basis\")\n",
    "    return np.column_stack(cols)\n",
    "\n",
    "def risk_components(K, basis):\n",
    "    X = design_matrix(x_grid, K, basis)\n",
    "    H = X @ np.linalg.pinv(X.T @ X) @ X.T\n",
    "    bias2 = np.mean(((np.eye(n) - H) @ f_true) ** 2)\n",
    "    variance = sigma2 * np.trace(H @ H.T) / n\n",
    "    return bias2, variance, bias2 + variance\n",
    "\n",
    "# ------------------------------------------------------------------\n",
    "# widgets\n",
    "basis_dd = Dropdown(\n",
    "    options=[\"Polynomial\", \"Trigonometric\",\n",
    "             \"B-spline (linear)\", \"B-spline (cubic)\"],\n",
    "    value=\"Polynomial\", description=\"Basis:\"\n",
    ")\n",
    "K_slider = IntSlider(value=3, min=1, max=20, step=1,\n",
    "                     description=\"K basis:\", continuous_update=False)\n",
    "out = Output()\n",
    "\n",
    "def redraw(*_):\n",
    "    basis = basis_dd.value\n",
    "    K_sel = K_slider.value\n",
    "    Ks = np.arange(1, K_slider.max + 1)\n",
    "    bias, var, tot = zip(*(risk_components(k, basis) for k in Ks))\n",
    "    # fitted curve for selected K\n",
    "    X_sel = design_matrix(x_grid, K_sel, basis)\n",
    "    y_hat = X_sel @ np.linalg.pinv(X_sel.T @ X_sel) @ X_sel.T @ f_true\n",
    "\n",
    "    with out:\n",
    "        out.clear_output(wait=True)\n",
    "        fig, axes = plt.subplots(2, 1, figsize=(7, 7),\n",
    "                                 height_ratios=[2, 1.4])\n",
    "\n",
    "        # top: true vs fitted\n",
    "        axes[0].plot(x_grid, f_true, \"k--\", label=\"true f(x)\")\n",
    "        axes[0].plot(x_grid, y_hat, label=f\"fit (K={K_sel})\")\n",
    "        axes[0].set(xlabel=\"x\", ylabel=\"y\",\n",
    "                    title=f\"{basis} basis  •  K = {K_sel}\")\n",
    "        axes[0].legend(); axes[0].grid(alpha=.3)\n",
    "\n",
    "        # bottom: bias², variance, total\n",
    "        axes[1].plot(Ks, bias, label=\"bias²\")\n",
    "        axes[1].plot(Ks, var,  label=\"variance\")\n",
    "        axes[1].plot(Ks, tot,  color=\"black\", label=\"total risk\")\n",
    "        axes[1].scatter(K_sel, tot[K_sel-1], color=\"red\", zorder=5)\n",
    "        axes[1].set(xlabel=\"K\", ylabel=\"Risk\"); axes[1].grid(alpha=.3)\n",
    "        axes[1].legend()\n",
    "\n",
    "        plt.tight_layout()\n",
    "        display(fig)      # render inside Output widget\n",
    "        plt.close(fig)    # prevent duplicate outside widget\n",
    "\n",
    "# callbacks\n",
    "basis_dd.observe(redraw, names=\"value\")\n",
    "K_slider.observe(redraw, names=\"value\")\n",
    "\n",
    "display(VBox([HBox([basis_dd, K_slider]), out]))\n",
    "redraw()   # initial draw\n"
   ]
  },
  {
   "cell_type": "code",
   "execution_count": null,
   "id": "f6c76e0d",
   "metadata": {},
   "outputs": [],
   "source": []
  }
 ],
 "metadata": {
  "kernelspec": {
   "display_name": "base",
   "language": "python",
   "name": "python3"
  },
  "language_info": {
   "codemirror_mode": {
    "name": "ipython",
    "version": 3
   },
   "file_extension": ".py",
   "mimetype": "text/x-python",
   "name": "python",
   "nbconvert_exporter": "python",
   "pygments_lexer": "ipython3",
   "version": "3.11.5"
  }
 },
 "nbformat": 4,
 "nbformat_minor": 5
}
