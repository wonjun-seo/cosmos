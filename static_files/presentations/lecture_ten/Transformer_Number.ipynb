{
 "cells": [
  {
   "cell_type": "markdown",
   "id": "c6da8b2f",
   "metadata": {},
   "source": [
    "# Mini Transformer for French-to-English Numbers Translation"
   ]
  },
  {
   "cell_type": "markdown",
   "id": "eea36517",
   "metadata": {},
   "source": [
    "A demonstration that trains a small Transformer on 500 random French to English number pairs between 1 to 100. Special `<bos>` / `<eos>` tokens are added so every target sequence has length $\\geq$ 2.\n"
   ]
  },
  {
   "cell_type": "code",
   "execution_count": 1,
   "id": "16cf0fa8",
   "metadata": {},
   "outputs": [],
   "source": [
    "## Install (if needed) & imports\n",
    "\n",
    "import re, random, torch, torch.nn as nn\n",
    "from torch.utils.data import Dataset, DataLoader\n",
    "from num2words import num2words\n",
    "import matplotlib.pyplot as plt, pandas as pd\n",
    "random.seed(42)\n",
    "torch.manual_seed(42)\n",
    "\n",
    "# ----- Minimal vocab helper (replaces torchtext)\n",
    "class TinyVocab:\n",
    "    def __init__(self, iterator, pad_token='<pad>'):\n",
    "        self.stoi = {pad_token: 0}\n",
    "        for seq in iterator:\n",
    "            for tok in seq:\n",
    "                if tok not in self.stoi:\n",
    "                    self.stoi[tok] = len(self.stoi)\n",
    "        self.itos = {i: s for s, i in self.stoi.items()}\n",
    "    def __len__(self):           return len(self.stoi)\n",
    "    def get_stoi(self):          return self.stoi\n",
    "    def lookup_token(self, idx): return self.itos[idx]"
   ]
  },
  {
   "cell_type": "markdown",
   "id": "c087e2f9",
   "metadata": {},
   "source": [
    "## 1. Tokenization"
   ]
  },
  {
   "cell_type": "code",
   "execution_count": 2,
   "id": "8da8e7be",
   "metadata": {},
   "outputs": [
    {
     "name": "stdout",
     "output_type": "stream",
     "text": [
      "Word‑level: ['quatre-vingt-dix-sept']\n",
      "Hyphen‑split: ['quatre', 'vingt', 'dix', 'sept']\n",
      "Word stoi : {'<pad>': 0, 'quatre-vingt-dix-sept': 1}\n",
      "Hyphen stoi: {'<pad>': 0, 'quatre': 1, 'vingt': 2, 'dix': 3, 'sept': 4}\n"
     ]
    }
   ],
   "source": [
    "sample_fr = 'Quatre-vingt-dix-sept'\n",
    "def word_tok(t):   return [t.lower()]\n",
    "def hyphen_tok(t): return re.split(r'-|\\s+', t.lower())\n",
    "print('Word‑level:', word_tok(sample_fr))\n",
    "print('Hyphen‑split:', hyphen_tok(sample_fr))\n",
    "\n",
    "vocab_word   = TinyVocab([word_tok(sample_fr)])\n",
    "vocab_hyphen = TinyVocab([hyphen_tok(sample_fr)])\n",
    "print('Word stoi :', vocab_word.get_stoi())\n",
    "print('Hyphen stoi:', vocab_hyphen.get_stoi())"
   ]
  },
  {
   "cell_type": "markdown",
   "id": "cc4769db",
   "metadata": {},
   "source": [
    "## 2. Build Toy Dataset"
   ]
  },
  {
   "cell_type": "code",
   "execution_count": 3,
   "id": "79c25f1b",
   "metadata": {},
   "outputs": [
    {
     "name": "stdout",
     "output_type": "stream",
     "text": [
      "French vocab size: 25\n",
      "English vocab size: 31\n"
     ]
    }
   ],
   "source": [
    "# Build toy corpus  \n",
    "N_SAMPLES = 500\n",
    "nums = random.choices(range(1, 101), k=N_SAMPLES)\n",
    "corpus_fr = [num2words(n, lang='fr').replace('‑', '-') for n in nums]\n",
    "corpus_en = [num2words(n, lang='en') for n in nums]\n",
    "\n",
    "def fr_tok(t): return re.split(r'-|\\s+', t.lower())\n",
    "def en_tok(t): return re.split(r'-|\\s+', t.lower())\n",
    "\n",
    "# Build vocabs\n",
    "vocab_fr = TinyVocab(fr_tok(t) for t in corpus_fr)\n",
    "vocab_en = TinyVocab(en_tok(t) for t in corpus_en)\n",
    "\n",
    "# Add <bos> and <eos> tokens to English vocab\n",
    "BOS_ID = len(vocab_en)\n",
    "EOS_ID = BOS_ID + 1\n",
    "vocab_en.stoi['<bos>'] = BOS_ID; vocab_en.itos[BOS_ID] = '<bos>'\n",
    "vocab_en.stoi['<eos>'] = EOS_ID; vocab_en.itos[EOS_ID] = '<eos>'\n",
    "\n",
    "PAD = 0  # already assigned by TinyVocab\n",
    "\n",
    "print('French vocab size:', len(vocab_fr))\n",
    "print('English vocab size:', len(vocab_en))"
   ]
  },
  {
   "cell_type": "markdown",
   "id": "5850e521",
   "metadata": {},
   "source": [
    "## 3. Mini‑Transformer"
   ]
  },
  {
   "cell_type": "code",
   "execution_count": 4,
   "id": "cff983d8",
   "metadata": {},
   "outputs": [],
   "source": [
    "# -----------------------------\n",
    "# Dataset & DataLoader helpers\n",
    "# -----------------------------\n",
    "\n",
    "class NumDataset(Dataset):\n",
    "    \"\"\"\n",
    "    PyTorch-style dataset that yields one training pair:\n",
    "        French number  →  English number\n",
    "\n",
    "    – fr_texts / en_texts are *parallel lists* of strings.\n",
    "    – Each __getitem__ returns (src_tensor, tgt_tensor) where\n",
    "        * src_tensor is a tensor of French token-IDs\n",
    "        * tgt_tensor is a tensor of English token-IDs, wrapped with\n",
    "          <bos> ... <eos> so the decoder always has at least 2 tokens.\n",
    "    \"\"\"\n",
    "    def __init__(self, fr_texts, en_texts):\n",
    "        self.fr, self.en = fr_texts, en_texts        # store parallel corpora\n",
    "\n",
    "    def __len__(self):\n",
    "        \"\"\"Number of sentence pairs in the corpus.\"\"\"\n",
    "        return len(self.fr)\n",
    "\n",
    "    def __getitem__(self, idx):\n",
    "        \"\"\"\n",
    "        One indexed sample → (src_ids, tgt_ids)\n",
    "        \"\"\"\n",
    "        # --- French side ----------------------------------------------------\n",
    "        #  Tokenise, then map each token to its integer ID\n",
    "        src_ids = [vocab_fr.get_stoi()[tok]\n",
    "                   for tok in fr_tok(self.fr[idx])]\n",
    "\n",
    "        # --- English side ---------------------------------------------------\n",
    "        #  Tokenise, map to IDs, and wrap with BOS / EOS\n",
    "        tgt_core = [vocab_en.get_stoi()[tok]\n",
    "                    for tok in en_tok(self.en[idx])]\n",
    "        tgt_ids  = [BOS_ID] + tgt_core + [EOS_ID]\n",
    "\n",
    "        # Return as tensors (no padding yet)\n",
    "        return torch.tensor(src_ids), torch.tensor(tgt_ids)\n",
    "\n",
    "\n",
    "def collate(batch):\n",
    "    \"\"\"\n",
    "    Custom collate_fn for DataLoader.\n",
    "\n",
    "    • Pads all source and target sequences in the mini-batch\n",
    "      to the length of the longest sequence in that batch.\n",
    "    • Uses PAD as the padding value so the loss function can\n",
    "      ignore padded positions later.\n",
    "    \"\"\"\n",
    "    src, tgt = zip(*batch)  # unzip list of tuples\n",
    "\n",
    "    # Pad to (batch, max_len) with PAD token\n",
    "    src = nn.utils.rnn.pad_sequence(src,\n",
    "                                    batch_first=True,\n",
    "                                    padding_value=PAD)\n",
    "    tgt = nn.utils.rnn.pad_sequence(tgt,\n",
    "                                    batch_first=True,\n",
    "                                    padding_value=PAD)\n",
    "    return src, tgt\n",
    "\n",
    "\n",
    "# DataLoader that shuffles each epoch and uses the custom collate\n",
    "loader = DataLoader(\n",
    "    NumDataset(corpus_fr, corpus_en),\n",
    "    batch_size=32,\n",
    "    shuffle=True,\n",
    "    collate_fn=collate\n",
    ")\n"
   ]
  },
  {
   "cell_type": "code",
   "execution_count": 5,
   "id": "50041b6f",
   "metadata": {},
   "outputs": [],
   "source": [
    "# -------------------------------\n",
    "# Mini-Transformer architecture\n",
    "# -------------------------------\n",
    "\n",
    "class MiniTransformer(nn.Module):\n",
    "    def __init__(self, vs, vt, d=64, h=4, L=2):\n",
    "        \"\"\"\n",
    "        vs : size of **source (French)** vocabulary\n",
    "        vt : size of **target (English)** vocabulary\n",
    "        d  : model dimension (embedding + hidden size)\n",
    "        h  : number of attention heads\n",
    "        L  : number of encoder and decoder layers\n",
    "        \"\"\"\n",
    "        super().__init__()\n",
    "\n",
    "        # --- 1. Token embeddings ------------------------------------------\n",
    "        # Separate lookup tables for source and target languages\n",
    "        self.es = nn.Embedding(vs, d)      # French  embedding\n",
    "        self.et = nn.Embedding(vt, d)      # English embedding\n",
    "\n",
    "        # --- 2. Learned positional encoding -------------------------------\n",
    "        # Shape (max_len=200 , d).  Multiplied by 0.02 so initial magnitude\n",
    "        # is small relative to embeddings => helps early training stability\n",
    "        self.pos = nn.Parameter(0.02 * torch.randn(200, d))\n",
    "\n",
    "        # --- 3. Core Transformer (encoder + decoder) ----------------------\n",
    "        # PyTorch’s high-level nn.Transformer:\n",
    "        #   d_model=d, nhead=h,   num_encoder_layers=L, num_decoder_layers=L\n",
    "        # batch_first=True → all tensors use (batch, seq, feature) layout.\n",
    "        self.tr = nn.Transformer(\n",
    "            d_model      = d,\n",
    "            nhead        = h,\n",
    "            num_encoder_layers = L,\n",
    "            num_decoder_layers = L,\n",
    "            batch_first  = True\n",
    "        )\n",
    "\n",
    "        # --- 4. Final linear projection to vocabulary logits --------------\n",
    "        # Maps each decoder hidden vector (size d) → distribution over target\n",
    "        # vocabulary (size vt).  Softmax happens inside CrossEntropyLoss later.\n",
    "        self.fc = nn.Linear(d, vt)\n",
    "\n",
    "    def forward(self, src, tgt):\n",
    "        \"\"\"\n",
    "        src : [batch, src_len]  token IDs for French sentence\n",
    "        tgt : [batch, tgt_len]  token IDs for English <bos> + prefix\n",
    "        returns: unnormalised logits of shape [batch, tgt_len, vt]\n",
    "        \"\"\"\n",
    "\n",
    "        # --- Add token + positional encodings -----------------------------\n",
    "        # Slice positional matrix to the required sequence length\n",
    "        src_emb = self.es(src) + self.pos[:src.size(1)]\n",
    "        tgt_emb = self.et(tgt) + self.pos[:tgt.size(1)]\n",
    "\n",
    "        # --- Run through Transformer (enc + dec) --------------------------\n",
    "        # PyTorch expects (tgt, src) order here.\n",
    "        hidden = self.tr(src_emb, tgt_emb)     # [B, tgt_len, d]\n",
    "\n",
    "        # --- Project to vocabulary space ----------------------------------\n",
    "        return self.fc(hidden)                 # [B, tgt_len, vt]\n",
    "\n",
    "\n",
    "# -------------------------------\n",
    "# Training utilities\n",
    "# -------------------------------\n",
    "\n",
    "model = MiniTransformer(len(vocab_fr),          # |V_src|\n",
    "                        len(vocab_en))          # |V_tgt|\n",
    "\n",
    "opt  = torch.optim.Adam(model.parameters(),     # Adam optimiser\n",
    "                        lr=1e-3)\n",
    "\n",
    "# Mask loss on PAD tokens so they don't contribute to gradient\n",
    "crit = nn.CrossEntropyLoss(ignore_index=PAD)\n"
   ]
  },
  {
   "cell_type": "markdown",
   "id": "0a47ca3d",
   "metadata": {},
   "source": [
    "## 4. Model Training"
   ]
  },
  {
   "cell_type": "code",
   "execution_count": null,
   "id": "6abbbbd6",
   "metadata": {},
   "outputs": [
    {
     "name": "stdout",
     "output_type": "stream",
     "text": [
      "Epoch 01  loss: 1.9252\n",
      "Epoch 05  loss: 0.0725\n",
      "Epoch 10  loss: 0.0201\n",
      "Epoch 15  loss: 0.0106\n"
     ]
    }
   ],
   "source": [
    "hist = []                       # store average loss for each epoch\n",
    "\n",
    "for ep in range(50):            # ---- outer loop = epochs ----\n",
    "    total = 0                   # running sum of batch losses\n",
    "    model.train()               # put model in *training* mode (activates dropout, etc.)\n",
    "\n",
    "    for src, tgt in loader:     # ---- inner loop = mini-batches ----\n",
    "        # -----------------------------------------------------------\n",
    "        # 1.  Reset gradient buffers from the previous step\n",
    "        # -----------------------------------------------------------\n",
    "        opt.zero_grad()\n",
    "\n",
    "        # -----------------------------------------------------------\n",
    "        # 2.  Forward pass\n",
    "        #     • src  : [B, src_len]\n",
    "        #     • tgt[:, :-1]  -> teacher-forcing prefix\n",
    "        #       (last token is stripped off so model predicts token+1)\n",
    "        # -----------------------------------------------------------\n",
    "        out = model(src, tgt[:, :-1])          # [B, tgt_len-1, |V|]\n",
    "\n",
    "        # -----------------------------------------------------------\n",
    "        # 3.  Compute loss\n",
    "        #     CrossEntropy expects (N, C) logits vs. (N) targets\n",
    "        #     so we flatten batch and time dims with .reshape(-1, …)\n",
    "        # -----------------------------------------------------------\n",
    "        loss = crit(out.reshape(-1, out.size(-1)),    # logits\n",
    "                    tgt[:, 1:].reshape(-1))           # ground-truth next tokens\n",
    "\n",
    "        # -----------------------------------------------------------\n",
    "        # 4.  Back-propagate\n",
    "        # -----------------------------------------------------------\n",
    "        loss.backward()\n",
    "\n",
    "        # (optional but helpful) clip gradients to stop exploding grads\n",
    "        nn.utils.clip_grad_norm_(model.parameters(), max_norm=1.0)\n",
    "\n",
    "        # -----------------------------------------------------------\n",
    "        # 5.  Update parameters\n",
    "        # -----------------------------------------------------------\n",
    "        opt.step()\n",
    "\n",
    "        # -----------------------------------------------------------\n",
    "        # 6.  Accumulate batch loss for reporting\n",
    "        # -----------------------------------------------------------\n",
    "        total += loss.item()\n",
    "\n",
    "    # ---- end mini-batch loop ----\n",
    "\n",
    "    # Average loss over all batches this epoch\n",
    "    hist.append(total / len(loader))\n",
    "\n",
    "    # Print checkpointed loss every few epochs\n",
    "    print(f\"Epoch {ep+1:02d}  loss: {hist[-1]:.4f}\")\n"
   ]
  },
  {
   "cell_type": "code",
   "execution_count": 7,
   "id": "77bc2750",
   "metadata": {},
   "outputs": [
    {
     "data": {
      "image/png": "[encoded data removed]",
      "text/plain": [
       "<Figure size 640x480 with 1 Axes>"
      ]
     },
     "metadata": {},
     "output_type": "display_data"
    }
   ],
   "source": [
    "plt.plot(hist, marker='o'); plt.xlabel('Epoch'); plt.ylabel('Loss'); plt.title('Training loss'); plt.show()"
   ]
  },
  {
   "cell_type": "markdown",
   "id": "7a432948",
   "metadata": {},
   "source": [
    "## 5. Translation using Trained Model"
   ]
  },
  {
   "cell_type": "code",
   "execution_count": 8,
   "id": "cf2b270a",
   "metadata": {},
   "outputs": [],
   "source": [
    "def translate_fr_number(text_fr, max_len=10):\n",
    "    \n",
    "    \"\"\"\n",
    "    text_fr : French number string, e.g. \"soixante-quinze\"\n",
    "    returns  : English number string, e.g. \"seventy five\"\n",
    "    \"\"\"\n",
    "    model.eval()                           # disable dropout, etc.\n",
    "\n",
    "    # 1)  Tokenise + map to IDs  ------------------------------------------\n",
    "    src_ids = [vocab_fr.get_stoi()[tok] for tok in fr_tok(text_fr)]\n",
    "    src     = torch.tensor([src_ids])      # shape [1, src_len]\n",
    "\n",
    "    # 2)  Begin target sequence with <bos> -------------------------------\n",
    "    tgt_ids = [BOS_ID]                     # running list of generated IDs\n",
    "\n",
    "    with torch.no_grad():                  # no gradients needed at inference\n",
    "        for _ in range(max_len):\n",
    "            tgt_in  = torch.tensor([tgt_ids])          # [1, cur_len]\n",
    "            logits  = model(src, tgt_in)               # forward pass\n",
    "            next_id = logits[:, -1].argmax(-1).item()  # greedy pick\n",
    "\n",
    "            # stop if <eos> or <pad> predicted\n",
    "            if next_id in (EOS_ID, PAD):\n",
    "                break\n",
    "\n",
    "            tgt_ids.append(next_id)\n",
    "\n",
    "    # 3)  Convert IDs back to English words ------------------------------\n",
    "    eng_tokens = [vocab_en.lookup_token(i) for i in tgt_ids[1:]]  # skip <bos>\n",
    "    return \" \".join(eng_tokens)\n"
   ]
  },
  {
   "cell_type": "code",
   "execution_count": 10,
   "id": "42560813",
   "metadata": {},
   "outputs": [
    {
     "name": "stdout",
     "output_type": "stream",
     "text": [
      "ninety\n"
     ]
    },
    {
     "data": {
      "text/plain": [
       "'quatre-vingt-dix'"
      ]
     },
     "execution_count": 10,
     "metadata": {},
     "output_type": "execute_result"
    }
   ],
   "source": [
    "print(translate_fr_number(\"Quatre-vingt-quinze\"))\n",
    "num2words(90, lang='fr')"
   ]
  },
  {
   "cell_type": "markdown",
   "id": "81101320",
   "metadata": {},
   "source": [
    "## 6. Visualizing Attention"
   ]
  },
  {
   "cell_type": "code",
   "execution_count": 16,
   "id": "79e433cf",
   "metadata": {},
   "outputs": [],
   "source": [
    "import math\n",
    "def run_with_hidden(model, src, tgt):\n",
    "    \"\"\"Forward pass that also returns (dec_out, memory) without\n",
    "       modifying the MiniTransformer class itself.\"\"\"\n",
    "    with torch.no_grad():\n",
    "        src_emb = model.es(src) + model.pos[:src.size(1)]\n",
    "        tgt_emb = model.et(tgt) + model.pos[:tgt.size(1)]\n",
    "        memory  = model.tr.encoder(src_emb)      # encoder part\n",
    "        dec_out = model.tr.decoder(tgt_emb, memory)\n",
    "        logits  = model.fc(dec_out)\n",
    "    return logits, dec_out, memory\n"
   ]
  },
  {
   "cell_type": "code",
   "execution_count": 17,
   "id": "1b3c5ef9",
   "metadata": {},
   "outputs": [],
   "source": [
    "\n",
    "src_str   = \"vingt-cinq\"\n",
    "src_ids   = [vocab_fr.get_stoi()[tok] for tok in fr_tok(src_str)]\n",
    "src = torch.tensor([src_ids])            # shape [1, src_len]\n",
    "\n",
    "model.eval()                                    # inference mode\n",
    "tgt_ids = [BOS_ID]                              # start with <bos>\n",
    "\n",
    "with torch.no_grad():\n",
    "    for _ in range(8):                          # length cap = 8\n",
    "        tgt_tensor = torch.tensor([tgt_ids])    # [1, cur_len]\n",
    "        logits, dec_hid, mem =  run_with_hidden(model, src, tgt_tensor)\n",
    "        next_id = logits[:, -1].argmax(-1).item()         # greedy pick\n",
    "        if next_id in (EOS_ID, PAD): break\n",
    "        tgt_ids.append(next_id)\n",
    "Q = dec_hid.squeeze(0)                          # [tgt_len, d]\n",
    "K = mem.squeeze(0).transpose(0, 1)              # [d, src_len]\n",
    "attn = torch.softmax(Q @ K / math.sqrt(Q.size(-1)), dim=-1)  # [tgt_len, src_len]\n",
    "\n",
    "# Skip <bos> row for visual clarity\n",
    "attn = attn[1:].cpu().numpy()                   # [tgt_len-1, src_len]\n",
    "\n",
    "                             # start with <bos>\n",
    "with torch.no_grad():\n",
    "    for _ in range(8):                          # length cap = 8\n",
    "        tgt_tensor = torch.tensor([tgt_ids])    # [1, cur_len]\n",
    "        logits= model(src,\n",
    "                                     tgt_tensor)  # decoder & enc hiddens\n",
    "        next_id = logits[:, -1].argmax(-1).item()         # greedy pick\n",
    "        if next_id in (EOS_ID, PAD): break\n",
    "        tgt_ids.append(next_id)\n"
   ]
  },
  {
   "cell_type": "code",
   "execution_count": 18,
   "id": "2f0e11b0",
   "metadata": {},
   "outputs": [
    {
     "data": {
      "image/png": "[encoded data removed]",
      "text/plain": [
       "<Figure size 600x300 with 2 Axes>"
      ]
     },
     "metadata": {},
     "output_type": "display_data"
    }
   ],
   "source": [
    "# 4) Plot heat-map\n",
    "# ------------------------------------------------------------------\n",
    "fr_tokens  = fr_tok(src_str)\n",
    "en_tokens  = [vocab_en.lookup_token(i) for i in tgt_ids[1:]]  # skip <bos>\n",
    "\n",
    "plt.figure(figsize=(6, 3))\n",
    "plt.imshow(attn, aspect=\"auto\")\n",
    "plt.xticks(range(len(fr_tokens)), fr_tokens, rotation=45)\n",
    "plt.yticks(range(len(en_tokens)), en_tokens)\n",
    "plt.xlabel(\"French tokens\")\n",
    "plt.ylabel(\"Generated English tokens\")\n",
    "plt.title(\"Cross-attention for 'Soixante-dix-huit' (78)\")\n",
    "plt.colorbar(label=\"attention weight\")\n",
    "plt.tight_layout()\n",
    "plt.show()"
   ]
  }
 ],
 "metadata": {
  "kernelspec": {
   "display_name": "base",
   "language": "python",
   "name": "python3"
  },
  "language_info": {
   "codemirror_mode": {
    "name": "ipython",
    "version": 3
   },
   "file_extension": ".py",
   "mimetype": "text/x-python",
   "name": "python",
   "nbconvert_exporter": "python",
   "pygments_lexer": "ipython3",
   "version": "3.11.5"
  }
 },
 "nbformat": 4,
 "nbformat_minor": 5
}
